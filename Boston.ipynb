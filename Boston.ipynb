{
 "cells": [
  {
   "cell_type": "code",
   "execution_count": 1,
   "metadata": {},
   "outputs": [],
   "source": [
    "import pandas as pd\n",
    "import numpy as np\n",
    "import math"
   ]
  },
  {
   "cell_type": "markdown",
   "metadata": {},
   "source": [
    "<h4>Write a user defined function ‘myLinReg(x,y) to perform Linear Regression given x and y. The function should return the coefficients of the straight line. </h4>"
   ]
  },
  {
   "cell_type": "code",
   "execution_count": 3,
   "metadata": {},
   "outputs": [
    {
     "name": "stdout",
     "output_type": "stream",
     "text": [
      "3.0 2.0\n"
     ]
    }
   ],
   "source": [
    "def myLinReg(x,y):    \n",
    "    df = pd.DataFrame({'x':x, 'y':y})\n",
    "    xMean = df['x'].mean()\n",
    "    yMean = df['y'].mean()\n",
    "    \n",
    "    total = sum((df['x']-xMean) * (df['y']-yMean))\n",
    "    x_square =  sum((df['x']-xMean)**2)\n",
    "    \n",
    "    b1 = total/x_square\n",
    "    b0 = yMean-b1*xMean\n",
    "    \n",
    "    return (b1,b0)\n",
    "m,c = myLinReg([1,3,4,5,7],[6,14,10,14,26])\n",
    "print(m,c)  #y=mx+c"
   ]
  },
  {
   "cell_type": "markdown",
   "metadata": {},
   "source": [
    "<h4>Use mtcars to build a linear regression model to predict mpg given the weight of the car</h4>  "
   ]
  },
  {
   "cell_type": "code",
   "execution_count": 4,
   "metadata": {},
   "outputs": [
    {
     "name": "stdout",
     "output_type": "stream",
     "text": [
      "-0.14086196987193308 6.0472550134583045\n"
     ]
    }
   ],
   "source": [
    "mtcars=pd.read_csv(\"mtcars.csv\")\n",
    "m,c = myLinReg(mtcars[\"mpg\"].values.tolist(),mtcars[\"wt\"].values.tolist())\n",
    "print(m,c)"
   ]
  },
  {
   "cell_type": "markdown",
   "metadata": {},
   "source": [
    "<h4>Using myLinReg(x,y) , What is the mpg of a car, whose weight is 5.5? </h4>"
   ]
  },
  {
   "cell_type": "code",
   "execution_count": 5,
   "metadata": {},
   "outputs": [
    {
     "name": "stdout",
     "output_type": "stream",
     "text": [
      "5.272514179162672\n"
     ]
    }
   ],
   "source": [
    "print(m*5.5+c)"
   ]
  },
  {
   "cell_type": "markdown",
   "metadata": {},
   "source": [
    "<h4>Use the boston.csv dataset and determine the best 5 features to predict ‘MEDV’</h4>"
   ]
  },
  {
   "cell_type": "code",
   "execution_count": 6,
   "metadata": {},
   "outputs": [
    {
     "data": {
      "text/html": [
       "<div>\n",
       "<style scoped>\n",
       "    .dataframe tbody tr th:only-of-type {\n",
       "        vertical-align: middle;\n",
       "    }\n",
       "\n",
       "    .dataframe tbody tr th {\n",
       "        vertical-align: top;\n",
       "    }\n",
       "\n",
       "    .dataframe thead th {\n",
       "        text-align: right;\n",
       "    }\n",
       "</style>\n",
       "<table border=\"1\" class=\"dataframe\">\n",
       "  <thead>\n",
       "    <tr style=\"text-align: right;\">\n",
       "      <th></th>\n",
       "      <th>Unnamed: 0</th>\n",
       "      <th>crim</th>\n",
       "      <th>zn</th>\n",
       "      <th>indus</th>\n",
       "      <th>chas</th>\n",
       "      <th>nox</th>\n",
       "      <th>rm</th>\n",
       "      <th>age</th>\n",
       "      <th>dis</th>\n",
       "      <th>rad</th>\n",
       "      <th>tax</th>\n",
       "      <th>ptratio</th>\n",
       "      <th>black</th>\n",
       "      <th>lstat</th>\n",
       "      <th>medv</th>\n",
       "    </tr>\n",
       "  </thead>\n",
       "  <tbody>\n",
       "    <tr>\n",
       "      <th>0</th>\n",
       "      <td>1</td>\n",
       "      <td>0.00632</td>\n",
       "      <td>18.0</td>\n",
       "      <td>2.31</td>\n",
       "      <td>0</td>\n",
       "      <td>0.538</td>\n",
       "      <td>6.575</td>\n",
       "      <td>65.2</td>\n",
       "      <td>4.0900</td>\n",
       "      <td>1</td>\n",
       "      <td>296</td>\n",
       "      <td>15.3</td>\n",
       "      <td>396.90</td>\n",
       "      <td>4.98</td>\n",
       "      <td>24.0</td>\n",
       "    </tr>\n",
       "    <tr>\n",
       "      <th>1</th>\n",
       "      <td>2</td>\n",
       "      <td>0.02731</td>\n",
       "      <td>0.0</td>\n",
       "      <td>7.07</td>\n",
       "      <td>0</td>\n",
       "      <td>0.469</td>\n",
       "      <td>6.421</td>\n",
       "      <td>78.9</td>\n",
       "      <td>4.9671</td>\n",
       "      <td>2</td>\n",
       "      <td>242</td>\n",
       "      <td>17.8</td>\n",
       "      <td>396.90</td>\n",
       "      <td>9.14</td>\n",
       "      <td>21.6</td>\n",
       "    </tr>\n",
       "    <tr>\n",
       "      <th>2</th>\n",
       "      <td>3</td>\n",
       "      <td>0.02729</td>\n",
       "      <td>0.0</td>\n",
       "      <td>7.07</td>\n",
       "      <td>0</td>\n",
       "      <td>0.469</td>\n",
       "      <td>7.185</td>\n",
       "      <td>61.1</td>\n",
       "      <td>4.9671</td>\n",
       "      <td>2</td>\n",
       "      <td>242</td>\n",
       "      <td>17.8</td>\n",
       "      <td>392.83</td>\n",
       "      <td>4.03</td>\n",
       "      <td>34.7</td>\n",
       "    </tr>\n",
       "    <tr>\n",
       "      <th>3</th>\n",
       "      <td>4</td>\n",
       "      <td>0.03237</td>\n",
       "      <td>0.0</td>\n",
       "      <td>2.18</td>\n",
       "      <td>0</td>\n",
       "      <td>0.458</td>\n",
       "      <td>6.998</td>\n",
       "      <td>45.8</td>\n",
       "      <td>6.0622</td>\n",
       "      <td>3</td>\n",
       "      <td>222</td>\n",
       "      <td>18.7</td>\n",
       "      <td>394.63</td>\n",
       "      <td>2.94</td>\n",
       "      <td>33.4</td>\n",
       "    </tr>\n",
       "    <tr>\n",
       "      <th>4</th>\n",
       "      <td>5</td>\n",
       "      <td>0.06905</td>\n",
       "      <td>0.0</td>\n",
       "      <td>2.18</td>\n",
       "      <td>0</td>\n",
       "      <td>0.458</td>\n",
       "      <td>7.147</td>\n",
       "      <td>54.2</td>\n",
       "      <td>6.0622</td>\n",
       "      <td>3</td>\n",
       "      <td>222</td>\n",
       "      <td>18.7</td>\n",
       "      <td>396.90</td>\n",
       "      <td>5.33</td>\n",
       "      <td>36.2</td>\n",
       "    </tr>\n",
       "    <tr>\n",
       "      <th>...</th>\n",
       "      <td>...</td>\n",
       "      <td>...</td>\n",
       "      <td>...</td>\n",
       "      <td>...</td>\n",
       "      <td>...</td>\n",
       "      <td>...</td>\n",
       "      <td>...</td>\n",
       "      <td>...</td>\n",
       "      <td>...</td>\n",
       "      <td>...</td>\n",
       "      <td>...</td>\n",
       "      <td>...</td>\n",
       "      <td>...</td>\n",
       "      <td>...</td>\n",
       "      <td>...</td>\n",
       "    </tr>\n",
       "    <tr>\n",
       "      <th>501</th>\n",
       "      <td>502</td>\n",
       "      <td>0.06263</td>\n",
       "      <td>0.0</td>\n",
       "      <td>11.93</td>\n",
       "      <td>0</td>\n",
       "      <td>0.573</td>\n",
       "      <td>6.593</td>\n",
       "      <td>69.1</td>\n",
       "      <td>2.4786</td>\n",
       "      <td>1</td>\n",
       "      <td>273</td>\n",
       "      <td>21.0</td>\n",
       "      <td>391.99</td>\n",
       "      <td>9.67</td>\n",
       "      <td>22.4</td>\n",
       "    </tr>\n",
       "    <tr>\n",
       "      <th>502</th>\n",
       "      <td>503</td>\n",
       "      <td>0.04527</td>\n",
       "      <td>0.0</td>\n",
       "      <td>11.93</td>\n",
       "      <td>0</td>\n",
       "      <td>0.573</td>\n",
       "      <td>6.120</td>\n",
       "      <td>76.7</td>\n",
       "      <td>2.2875</td>\n",
       "      <td>1</td>\n",
       "      <td>273</td>\n",
       "      <td>21.0</td>\n",
       "      <td>396.90</td>\n",
       "      <td>9.08</td>\n",
       "      <td>20.6</td>\n",
       "    </tr>\n",
       "    <tr>\n",
       "      <th>503</th>\n",
       "      <td>504</td>\n",
       "      <td>0.06076</td>\n",
       "      <td>0.0</td>\n",
       "      <td>11.93</td>\n",
       "      <td>0</td>\n",
       "      <td>0.573</td>\n",
       "      <td>6.976</td>\n",
       "      <td>91.0</td>\n",
       "      <td>2.1675</td>\n",
       "      <td>1</td>\n",
       "      <td>273</td>\n",
       "      <td>21.0</td>\n",
       "      <td>396.90</td>\n",
       "      <td>5.64</td>\n",
       "      <td>23.9</td>\n",
       "    </tr>\n",
       "    <tr>\n",
       "      <th>504</th>\n",
       "      <td>505</td>\n",
       "      <td>0.10959</td>\n",
       "      <td>0.0</td>\n",
       "      <td>11.93</td>\n",
       "      <td>0</td>\n",
       "      <td>0.573</td>\n",
       "      <td>6.794</td>\n",
       "      <td>89.3</td>\n",
       "      <td>2.3889</td>\n",
       "      <td>1</td>\n",
       "      <td>273</td>\n",
       "      <td>21.0</td>\n",
       "      <td>393.45</td>\n",
       "      <td>6.48</td>\n",
       "      <td>22.0</td>\n",
       "    </tr>\n",
       "    <tr>\n",
       "      <th>505</th>\n",
       "      <td>506</td>\n",
       "      <td>0.04741</td>\n",
       "      <td>0.0</td>\n",
       "      <td>11.93</td>\n",
       "      <td>0</td>\n",
       "      <td>0.573</td>\n",
       "      <td>6.030</td>\n",
       "      <td>80.8</td>\n",
       "      <td>2.5050</td>\n",
       "      <td>1</td>\n",
       "      <td>273</td>\n",
       "      <td>21.0</td>\n",
       "      <td>396.90</td>\n",
       "      <td>7.88</td>\n",
       "      <td>11.9</td>\n",
       "    </tr>\n",
       "  </tbody>\n",
       "</table>\n",
       "<p>506 rows × 15 columns</p>\n",
       "</div>"
      ],
      "text/plain": [
       "     Unnamed: 0     crim    zn  indus  chas    nox     rm   age     dis  rad  \\\n",
       "0             1  0.00632  18.0   2.31     0  0.538  6.575  65.2  4.0900    1   \n",
       "1             2  0.02731   0.0   7.07     0  0.469  6.421  78.9  4.9671    2   \n",
       "2             3  0.02729   0.0   7.07     0  0.469  7.185  61.1  4.9671    2   \n",
       "3             4  0.03237   0.0   2.18     0  0.458  6.998  45.8  6.0622    3   \n",
       "4             5  0.06905   0.0   2.18     0  0.458  7.147  54.2  6.0622    3   \n",
       "..          ...      ...   ...    ...   ...    ...    ...   ...     ...  ...   \n",
       "501         502  0.06263   0.0  11.93     0  0.573  6.593  69.1  2.4786    1   \n",
       "502         503  0.04527   0.0  11.93     0  0.573  6.120  76.7  2.2875    1   \n",
       "503         504  0.06076   0.0  11.93     0  0.573  6.976  91.0  2.1675    1   \n",
       "504         505  0.10959   0.0  11.93     0  0.573  6.794  89.3  2.3889    1   \n",
       "505         506  0.04741   0.0  11.93     0  0.573  6.030  80.8  2.5050    1   \n",
       "\n",
       "     tax  ptratio   black  lstat  medv  \n",
       "0    296     15.3  396.90   4.98  24.0  \n",
       "1    242     17.8  396.90   9.14  21.6  \n",
       "2    242     17.8  392.83   4.03  34.7  \n",
       "3    222     18.7  394.63   2.94  33.4  \n",
       "4    222     18.7  396.90   5.33  36.2  \n",
       "..   ...      ...     ...    ...   ...  \n",
       "501  273     21.0  391.99   9.67  22.4  \n",
       "502  273     21.0  396.90   9.08  20.6  \n",
       "503  273     21.0  396.90   5.64  23.9  \n",
       "504  273     21.0  393.45   6.48  22.0  \n",
       "505  273     21.0  396.90   7.88  11.9  \n",
       "\n",
       "[506 rows x 15 columns]"
      ]
     },
     "execution_count": 6,
     "metadata": {},
     "output_type": "execute_result"
    }
   ],
   "source": [
    "boston=pd.read_csv(\"Boston.csv\")\n",
    "boston"
   ]
  },
  {
   "cell_type": "markdown",
   "metadata": {},
   "source": [
    "<h4>Use the boston.csv dataset and determine the best 5 features to predict ‘MEDV’</h4>"
   ]
  },
  {
   "cell_type": "code",
   "execution_count": 14,
   "metadata": {},
   "outputs": [
    {
     "name": "stdout",
     "output_type": "stream",
     "text": [
      "    Specs        Scores\n",
      "9     tax  14817.836927\n",
      "1      zn   5937.859414\n",
      "0    crim   5503.817133\n",
      "11  black   3340.486412\n",
      "6     age   2424.308937\n"
     ]
    }
   ],
   "source": [
    "from sklearn.feature_selection import SelectKBest \n",
    "from sklearn.feature_selection import chi2\n",
    "X=boston.iloc[:,1:14] #independent columnsy=df.iloc[:,-1] \n",
    "y=boston.iloc[:,-1]#target column i.e medv range\n",
    "y = np.round(boston['medv'])\n",
    "#Apply SelectKBest class to extract top 5 best features\n",
    "bestfeatures = SelectKBest(score_func=chi2, k=5)\n",
    "fit = bestfeatures.fit(X,y)\n",
    "dfscores = pd.DataFrame(fit.scores_)\n",
    "dfcolumns = pd.DataFrame(X.columns)\n",
    "# Concat two dataframes for better visualization\n",
    "featureScores = pd.concat([dfcolumns,dfscores],axis=1)\n",
    "featureScores.columns = ['Specs','Scores'] #naming the dataframe columns\n",
    "print(featureScores.nlargest(5,'Scores')) #print 5 best features\n"
   ]
  },
  {
   "cell_type": "markdown",
   "metadata": {},
   "source": [
    "<h4>Using sklearn.linear_model, find the multiple regression model for the boston.csv dataset using the best 5 features.</h4>"
   ]
  },
  {
   "cell_type": "code",
   "execution_count": 31,
   "metadata": {},
   "outputs": [
    {
     "data": {
      "text/plain": [
       "array([32.54992525, 21.8760586 , 27.49052323, 23.6135203 ,  6.50906485,\n",
       "       15.01197765, 22.20670643, 29.10461975, 33.25958246, 13.0612058 ,\n",
       "       20.24068197, 20.68690583, 12.58618789, 23.3171207 ,  5.04032179,\n",
       "       19.80673036,  9.37711811, 44.49992791, 30.76485194, 12.48536697,\n",
       "       17.67335462, 21.40551666, 23.62809021, 20.30465405, 34.95001875,\n",
       "       13.79305681, 21.03212021, 35.07413069, 19.43629785, 13.19160788,\n",
       "       14.0362019 , 23.096657  , 14.43206429, 31.13854548, 25.30617554,\n",
       "       15.45530028, 24.21782155,  9.38273506, 14.84485769, 20.82897312,\n",
       "       32.74701308, 27.95901328, 25.5684571 , 15.56636771, 31.01161617,\n",
       "       28.01460751, 14.03507429,  7.54048211, 28.46541765, 25.38477941,\n",
       "        4.36433229, 28.32283274, 17.13229915, 29.6814786 , 20.32345421,\n",
       "       15.89015955, 17.83760878, 12.68615583,  8.7919297 , 19.22899108,\n",
       "       34.48710692, 32.97743353, 23.70548415, 19.54975924, 22.8466262 ,\n",
       "       26.82305866, 21.93980672, 17.05753219, 31.96366171, 10.83536225,\n",
       "       19.4970072 , 32.49897411, 18.84946497, 15.88791644, 18.63773162,\n",
       "       14.41828251, 24.62129465, 24.27462375, 16.70742445, 13.30858972,\n",
       "       20.22834886, 25.10894672, 17.11487044, 24.74771542, 22.55151751,\n",
       "       27.88111251, 35.67059047, 16.74404414, 11.8962972 , 34.87799016,\n",
       "       30.8676387 , 20.73333961, 39.60536133, 28.82385469, 29.0796787 ,\n",
       "       17.42034972, 26.82735443, 40.0073792 , 28.62204976, 16.45962636,\n",
       "       37.5079544 , 35.40648269, 13.53134265, 29.15769474, 21.73066092,\n",
       "       24.31821025, 21.44427644, 23.70591405, 27.76163655, 29.67832966,\n",
       "       14.25610202, 25.93047995, 23.28287218, 12.82815472, 13.6281427 ,\n",
       "       25.27657585, 19.35340874, 30.56683515, 10.86919547, 23.5403364 ,\n",
       "       16.96350684, 17.08631597, 22.49080306, 21.76683071, 11.73142742,\n",
       "       25.21690856, 28.66668867, 20.13961672, 12.68843014, 25.49802172,\n",
       "       25.96087059, 25.11945037, 23.56104222, 26.7459699 , 16.64011704,\n",
       "       21.68603923, 36.19998905, 20.97716985, 35.99128126, 25.60485928,\n",
       "       21.60735012, 15.81495145, 31.27727745, 21.22588415, 27.75494207,\n",
       "       14.64598359, 32.07799409, 13.97046827,  1.61674589, 19.33024513,\n",
       "       14.28602897, 37.59095598, 15.68852754, 14.39658718, 27.30848268,\n",
       "       23.23741223, 18.43466618, 30.45742589, 27.22433064, 27.1948964 ,\n",
       "       24.76035265, 24.12593875, 23.71488324, 11.17064316, 20.76927531,\n",
       "       13.64042433, 17.21869972, 12.83246256, 28.35123373, 14.92841577,\n",
       "       16.24628462, 28.68855268, 15.062985  , 21.26191183, 12.81100289,\n",
       "       13.81138835, 22.56740118, 21.19228552, 14.65182265, 20.948181  ,\n",
       "       16.84474414, 24.54183177, 12.55587266, 34.71905998, 11.91383061,\n",
       "       42.97803034, 31.26711002, 35.33063126, 21.42609315, 15.73967349,\n",
       "       26.50831578, 29.49735449, 14.02469523, 26.56173545, 37.08141417,\n",
       "       17.63392731, 10.5422424 , 34.01671279, 35.52832449, 18.40110108,\n",
       "       22.50522365, 17.96452357, 24.38003068, 19.54752814, 27.22910932,\n",
       "       -4.55976826, 20.56908093, 35.27532867, 36.65770671, 25.03664979,\n",
       "       27.2120292 , 20.72585544, 20.59314744, 15.9599525 , 20.81067471,\n",
       "       20.58543291, 27.86114931, 19.61874373,  7.31423838, 16.32843947,\n",
       "       32.45787792, 35.26800422, 17.60147554, 18.71286142, 23.38746528,\n",
       "        6.66852081, 21.44336591, 23.98523657, 16.4878658 , 18.38528548,\n",
       "       21.93616807, 27.56905736, 25.38942687, 37.05502664, 15.50666361,\n",
       "       28.6641765 , 25.79066056, 22.15741625, 38.69013021, 20.71494908,\n",
       "       23.37253   , 22.83075693, 12.18943271, 20.3044285 , 33.52364018,\n",
       "       24.74985   , 18.05548814, 33.55183917, 21.66741385, 28.30757553,\n",
       "       32.19879274, 36.79778211, 22.22927293, 23.99445449, 22.4076755 ,\n",
       "       31.84196874, 22.35184033, 18.82849832, 21.80649375, 28.26280946,\n",
       "       22.44820348, 21.7694891 , 16.91057336, 17.48090464, 16.93262519,\n",
       "       17.47608162, 16.32399118, 31.60165868, 23.76780189, 17.52098121,\n",
       "       19.7759202 , 33.61740641, 13.91676299, 24.95239415, 17.41430549,\n",
       "       30.54352788, 29.84340827, 22.6063397 , 20.86444919, 35.02910687,\n",
       "       22.63633451, 32.84667903, 20.78178374, 31.44104012, 30.94408128,\n",
       "       37.41503834, 26.70876208, 21.89880313, 28.71427826, 16.1040641 ,\n",
       "       26.9672182 , 21.06992382, 30.39001833,  9.83903887, 30.89307147,\n",
       "        5.73006645, 15.62109364, 18.09281926, 35.37600129, 32.09028904,\n",
       "       11.10399894, 13.33681904, 21.66621057, 34.43597212, 18.69818386,\n",
       "       19.16052696, 15.09704661, 25.78779789, 41.21548129, 25.05119155,\n",
       "       41.85572904, 24.92395491, 22.17997801, 12.19679468, 11.98493543,\n",
       "       14.23802388, 18.55785065,  2.97991007, 27.51391336, 26.02427828,\n",
       "       41.06325549, 21.09594308, 21.25590235, 33.90340139, 33.3031508 ,\n",
       "        9.73786925, 24.75676112, 43.43599544, 16.89124864, 17.93953212,\n",
       "       25.52220135, 18.38052865,  6.04831739, 19.30658804, 34.87051607,\n",
       "       16.34130733, 23.02157933, 13.56724514, 24.48812318, 18.81389934,\n",
       "       17.35302477, 18.72245946, 32.95849695, 19.46967707, 30.73869985,\n",
       "       32.79686455, 41.32429108, 19.27700819, 16.56290451, 37.44694965,\n",
       "       17.98710707,  9.39353195, 15.10170851, 24.91636877, 19.66224858,\n",
       "       16.65951716, 27.34858134, 12.98171621,  5.66972226, 19.07344505,\n",
       "        9.89630055, 28.00719484,  4.44037567, 29.22218577, 32.17683839,\n",
       "       22.17007829, 16.79321319, 18.08115342, 20.74553712, 33.50044936,\n",
       "       27.75537562, 19.55071323, 20.71871551,  6.51544932, 28.94716871,\n",
       "       24.58088584, 22.22318721, 13.64913494, 25.8106353 , 19.36422571,\n",
       "        8.77037308, 26.69798629, 16.15495311, 31.24349263, 32.52514005,\n",
       "       25.45460053, 18.53566576, 30.62573414, 21.5514385 , 25.23587212,\n",
       "       25.88662949, 31.43349639, 24.47328613, 34.38035335, 17.00643354,\n",
       "       19.70746183, 18.6453895 , 40.88950519, 25.13783635, 19.48856433,\n",
       "       33.31652115, 23.80524518, 18.40521488, 23.22631234])"
      ]
     },
     "execution_count": 31,
     "metadata": {},
     "output_type": "execute_result"
    }
   ],
   "source": [
    "from sklearn.linear_model import LinearRegression\n",
    "from sklearn.model_selection import train_test_split\n",
    "x_train,x_test,y_train,y_test = train_test_split(X,y,test_size=0.20,random_state=0)\n",
    "model = LinearRegression()\n",
    "model.fit(x_train,y_train)\n",
    "y_predict = model.predict(x_train)\n",
    "y_predict"
   ]
  },
  {
   "cell_type": "markdown",
   "metadata": {},
   "source": [
    "<h4>Find the accuracy of the model using appropriate metrics.</h4> "
   ]
  },
  {
   "cell_type": "code",
   "execution_count": 11,
   "metadata": {},
   "outputs": [
    {
     "name": "stdout",
     "output_type": "stream",
     "text": [
      "Model accuracy : 73.63985495216482\n"
     ]
    }
   ],
   "source": [
    "from sklearn.metrics import r2_score\n",
    "print('Model accuracy :',r2_score(y,model.predict(X))*100)"
   ]
  },
  {
   "cell_type": "code",
   "execution_count": 12,
   "metadata": {},
   "outputs": [
    {
     "name": "stdout",
     "output_type": "stream",
     "text": [
      "Training accuracy is :  77.16255967015627\n",
      "Testing accuracy is :  59.056717586058504\n"
     ]
    }
   ],
   "source": [
    "print('Training accuracy is : ',model.score(x_train,y_train)*100)\n",
    "print('Testing accuracy is : ',model.score(x_test,y_test)*100)"
   ]
  },
  {
   "cell_type": "code",
   "execution_count": null,
   "metadata": {},
   "outputs": [],
   "source": []
  },
  {
   "cell_type": "code",
   "execution_count": null,
   "metadata": {},
   "outputs": [],
   "source": []
  }
 ],
 "metadata": {
  "kernelspec": {
   "display_name": "Python 3",
   "language": "python",
   "name": "python3"
  },
  "language_info": {
   "codemirror_mode": {
    "name": "ipython",
    "version": 3
   },
   "file_extension": ".py",
   "mimetype": "text/x-python",
   "name": "python",
   "nbconvert_exporter": "python",
   "pygments_lexer": "ipython3",
   "version": "3.8.3"
  }
 },
 "nbformat": 4,
 "nbformat_minor": 4
}
